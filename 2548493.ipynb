{
 "cells": [
  {
   "cell_type": "markdown",
   "metadata": {
    "collapsed": false
   },
   "source": [
    "# GAMMA 挑战赛任务二\n",
    "## 任务简要介绍\n",
    "给定图片数据，以及对应的黄斑中央坐标，构造回归模型预测新的图片中黄斑位置。\n",
    "## 赛题链接\n",
    "MICCAI2021 Contest - GAMMA: https://aistudio.baidu.com/aistudio/competition/detail/90\n",
    "## 项目说明\n",
    "本项目完全是基线中展示的内容，**版本1**为纯基线内容，只是做了一些不伤大雅的修改，让原本没法一键运行的基线可以运行，这个版本对应了2021年10月第1名的成绩。\n",
    "\n",
    "**版本2**将基线中的Resnet更替为层数更深的Resnet152，这部分是我在11月的头几天运行出来的结果，也提供给大家了~\n",
    "\n",
    "本项目提供基线模型对应的运行一次后的参数，也提将基线中Resnet更替后的模型参数。具体说明参考下面的表格中的测试记录~"
   ]
  },
  {
   "cell_type": "markdown",
   "metadata": {
    "collapsed": false
   },
   "source": [
    "# 测试记录\n",
    "\n",
    "如果你喜欢我的测试记录，并认为这个项目和记录对你有帮助，欢迎在之后的版本中也更新并公开你的测试记录~\n",
    "\n",
    "|编号| 版本 | score\t|ED | 备注 |\n",
    "| -------- | -------- | -------- | -------- |-------- |\n",
    "|0| 版本1     |7.40255\t|0.03509    |对基线进行了一点修改，跑通程序,保存为best_model_0.0358，由于本程序只生成了一个best_model可见模型在前次迭代就已经收敛了     |\n",
    "|1| 版本2     |8.18647\t\t|0.02215\t   |使用Resnet152,保存为best_model_0.0194，本程序生成了5个best_model，可见远没有达到收敛     |\n",
    "|2| 版本2     |8.59959\t|0.01628\t|在1的基础下，增加读取之前的训练好模型的code模块，接续之前的训练结果进行训练，保存为best_model_0.0145     |\n",
    "|2| 版本2     |8.69833\t|0.01496\t|在2的基础下，接续之前的训练结果进行训练，保存为best_model_0.0138。<font color=#ff0000>现在开始收敛速度下降了，并且只出现了四个新文件，也许已经彻底收敛了，无法再寸进了</font>     |\n"
   ]
  },
  {
   "cell_type": "markdown",
   "metadata": {
    "collapsed": false
   },
   "source": [
    "# 正式开始\n",
    "## 获取数据"
   ]
  },
  {
   "cell_type": "code",
   "execution_count": 1,
   "metadata": {
    "collapsed": false
   },
   "outputs": [],
   "source": [
    "! wget https://dataset-bj.cdn.bcebos.com/%E5%8C%BB%E7%96%97%E6%AF%94%E8%B5%9B/task2_Fovea_localization.zip"
   ]
  },
  {
   "cell_type": "code",
   "execution_count": 2,
   "metadata": {
    "collapsed": false
   },
   "outputs": [],
   "source": [
    "! unzip -oq /home/aistudio/task2_Fovea_localization.zip"
   ]
  },
  {
   "cell_type": "markdown",
   "metadata": {
    "collapsed": false
   },
   "source": [
    "## 导入包"
   ]
  },
  {
   "cell_type": "code",
   "execution_count": 18,
   "metadata": {
    "collapsed": false
   },
   "outputs": [],
   "source": [
    "### 导入包\n",
    "\n",
    "import sys \n",
    "sys.path.append('/home/aistudio/external-libraries')\n",
    "import os\n",
    "import cv2\n",
    "import random\n",
    "import numpy as np\n",
    "import pandas as pd\n",
    "from sklearn.model_selection import train_test_split\n",
    "from sklearn.metrics.pairwise import euclidean_distances \n",
    "import matplotlib.pylab as plt\n",
    "\n",
    "import paddle\n",
    "import paddle.nn as nn\n",
    "import paddle.vision.models\n",
    "from paddle.vision.models import resnet50\n",
    "from paddle.io import Dataset\n"
   ]
  },
  {
   "cell_type": "markdown",
   "metadata": {
    "collapsed": false
   },
   "source": [
    "## 训练前准备"
   ]
  },
  {
   "cell_type": "markdown",
   "metadata": {
    "collapsed": false
   },
   "source": [
    "### 配置"
   ]
  },
  {
   "cell_type": "code",
   "execution_count": 1,
   "metadata": {
    "collapsed": false
   },
   "outputs": [
    {
     "name": "stdout",
     "output_type": "stream",
     "text": [
      "nothing to run\n"
     ]
    }
   ],
   "source": [
    "# 统一一些命名\r\n",
    "try:\r\n",
    "    os.rename('training/fundus color images','training/fundus_image')\r\n",
    "    os.rename('training/fovea_localization_training_GT.xlsx','training/Fovea_Location_train.xlsx')\r\n",
    "    os.rename('testing/fundus color images','testing/fundus_image')\r\n",
    "except:\r\n",
    "    print(\"nothing to run\")"
   ]
  },
  {
   "cell_type": "code",
   "execution_count": 3,
   "metadata": {
    "collapsed": false
   },
   "outputs": [],
   "source": [
    "### 设置参数\n",
    "\n",
    "path = 'training/'  # 训练数据路径\n",
    "images_file = path + 'fundus_image/'\n",
    "gt_file = path + 'Fovea_Location_train.xlsx'\n",
    "test_file = 'testing/fundus_image/'  # 测试数据路径\n",
    "image_size = 256 # 输入图像统一尺寸 (image_size, image_size, 3)\n",
    "val_ratio = 0.2 # 训练/验证数据划分比例\n",
    "BATCH_SIZE = 32  # 批大小\n",
    "iters = 500 # 迭代次数\n",
    "optimizer_type = 'adam' # 优化器，选手可选用其他优化器，如SGD, RMSprop,...\n",
    "num_workers = 4 # 加载数据机器数\n",
    "init_lr = 1e-4 # 初始学习率"
   ]
  },
  {
   "cell_type": "markdown",
   "metadata": {
    "collapsed": false
   },
   "source": [
    "### 训练/验证集划分"
   ]
  },
  {
   "cell_type": "code",
   "execution_count": 4,
   "metadata": {
    "collapsed": false
   },
   "outputs": [
    {
     "name": "stdout",
     "output_type": "stream",
     "text": [
      "Total Nums: 100, train: 80, val: 20\n"
     ]
    }
   ],
   "source": [
    "### 从训练数据中划分训练集和验证集 \n",
    "\n",
    "filelists = os.listdir(images_file)\n",
    "train_filelists, val_filelists = train_test_split(filelists, test_size = val_ratio,random_state = 42)\n",
    "print(\"Total Nums: {}, train: {}, val: {}\".format(len(filelists), len(train_filelists), len(val_filelists)))"
   ]
  },
  {
   "cell_type": "markdown",
   "metadata": {
    "collapsed": false
   },
   "source": [
    "### 数据加载"
   ]
  },
  {
   "cell_type": "code",
   "execution_count": 5,
   "metadata": {
    "collapsed": false
   },
   "outputs": [],
   "source": [
    "### 从训练集文件夹中加载每个图像和对应的金标准\n",
    "\n",
    "class FundusDataset(Dataset):\n",
    "    def __init__(self, image_file, gt_file=None, filelists=None,  mode='train'):\n",
    "        super(FundusDataset, self).__init__()\n",
    "        self.mode = mode\n",
    "        self.image_path = image_file\n",
    "        image_idxs = os.listdir(self.image_path)\n",
    "        self.gt_file = gt_file\n",
    "\n",
    "        if self.mode == 'train':\n",
    "            label = {str(int(row['data'])).zfill(4)+'.jpg': row[1:].values \n",
    "                        for _, row in pd.read_excel(gt_file).iterrows()}\n",
    "            self.file_list = [[image_idxs[i], label[image_idxs[i]]] for i in range(len(image_idxs))]\n",
    "        \n",
    "        elif self.mode == 'test':\n",
    "            self.file_list = [[image_idxs[i], None] for i in range(len(image_idxs))]\n",
    "        \n",
    "        if filelists is not None:\n",
    "            self.file_list = [item for item in self.file_list if item[0] in filelists] \n",
    "   \n",
    "    def __getitem__(self, idx):\n",
    "        real_index, label = self.file_list[idx]\n",
    "        fundus_img_path = os.path.join(self.image_path, real_index)\n",
    "        fundus_img = cv2.imread(fundus_img_path)[:, :, ::-1] # BGR -> RGB        \n",
    "        h,w,c = fundus_img.shape\n",
    "        if self.mode == 'train':\n",
    "            label_nor = (float(label[0])/w, float(label[1])/h)\n",
    "            label_nor = np.array(label_nor).astype('float32').reshape(2)\n",
    "        fundus_re = cv2.resize(fundus_img,(image_size, image_size))\n",
    "        img = fundus_re.transpose(2, 0, 1) # H, W, C -> C, H, W\n",
    "        # print(img.shape)\n",
    "        # img = fundus_re.astype(np.float32)\n",
    "        \n",
    "        if self.mode == 'test':\n",
    "            return img, real_index, h, w\n",
    "        if self.mode == 'train':\n",
    "            return img, label_nor\n",
    "\n",
    "    def __len__(self):\n",
    "        return len(self.file_list)\n"
   ]
  },
  {
   "cell_type": "markdown",
   "metadata": {
    "collapsed": false
   },
   "source": [
    "### 网络模型\n",
    "\n",
    "基线使用ResNet50从眼底图像中提取特征。关于ResNet50的详细介绍可以在https://arxiv.org/pdf/1512.03385.pdf上找到。\n",
    "\n",
    "ResNet50在PaddlePaddle框架中的代码可以在https://www.paddlepaddle.org.cn/documentation/docs/zh/api/paddle/vision/models/resnet50_cn.html#resnet50 上找到。\n",
    "\n",
    "**这里我已经把网络格式换为Resnet152了，只想跑通基线可以对版本1进行运行**"
   ]
  },
  {
   "cell_type": "code",
   "execution_count": 22,
   "metadata": {
    "collapsed": false
   },
   "outputs": [],
   "source": [
    "class Network(paddle.nn.Layer):\n",
    "    def __init__(self):\n",
    "        super(Network, self).__init__()\n",
    "        # self.resnet = resnet50(pretrained=True, num_classes=0) # remove final fc 输出为[?, 2048, 1, 1]\n",
    "        self.resnet = paddle.vision.models.resnet152(pretrained=True, num_classes=0)\n",
    "        self.flatten = paddle.nn.Flatten()\n",
    "        self.linear_1 = paddle.nn.Linear(2048, 512)\n",
    "        self.linear_2 = paddle.nn.Linear(512, 256)\n",
    "        self.linear_3 = paddle.nn.Linear(256, 2)\n",
    "        self.relu = paddle.nn.ReLU()\n",
    "        self.dropout = paddle.nn.Dropout(0.2)\n",
    "    \n",
    "    def forward(self, inputs):\n",
    "        # print('input', inputs)\n",
    "        y = self.resnet(inputs)\n",
    "        y = self.flatten(y)\n",
    "        y = self.linear_1(y)\n",
    "        y = self.linear_2(y)\n",
    "        y = self.relu(y)\n",
    "        y = self.dropout(y)\n",
    "        y = self.linear_3(y)\n",
    "        y = paddle.nn.functional.sigmoid(y)\n",
    "\n",
    "        return y"
   ]
  },
  {
   "cell_type": "markdown",
   "metadata": {
    "collapsed": false
   },
   "source": [
    "### 功能函数"
   ]
  },
  {
   "cell_type": "code",
   "execution_count": 7,
   "metadata": {
    "collapsed": false
   },
   "outputs": [],
   "source": [
    "# 计算欧式距离\n",
    "def cal_ed(logit, label):\n",
    "    ed_loss = []\n",
    "    for i in range(logit.shape[0]):\n",
    "        logit_tmp = logit[i,:].numpy()\n",
    "        label_tmp = label[i,:].numpy()\n",
    "        # print('cal_coordinate_loss_ed', logit_tmp, label_tmp)        \n",
    "        ed_tmp = euclidean_distances([logit_tmp], [label_tmp])\n",
    "        # print('ed_tmp:', ed_tmp[0][0])\n",
    "        ed_loss.append(ed_tmp)\n",
    "    \n",
    "    ed_l = sum(ed_loss)/len(ed_loss)\n",
    "    return ed_l"
   ]
  },
  {
   "cell_type": "code",
   "execution_count": 8,
   "metadata": {
    "collapsed": false
   },
   "outputs": [],
   "source": [
    "# 验证过程中计算欧式距离\n",
    "def cal_ed_val(logit, label):\n",
    "    ed_loss = []\n",
    "    for i in range(logit.shape[0]):\n",
    "        logit_tmp = logit[i,:]\n",
    "        label_tmp = label[i,:]\n",
    "        ed_tmp = euclidean_distances([logit_tmp], [label_tmp])\n",
    "        ed_loss.append(ed_tmp)\n",
    "    \n",
    "    ed_l = sum(ed_loss)/len(ed_loss)\n",
    "    \n",
    "    return ed_l"
   ]
  },
  {
   "cell_type": "code",
   "execution_count": 9,
   "metadata": {
    "collapsed": false
   },
   "outputs": [],
   "source": [
    "# 损失函数\n",
    "def cal_coordinate_Loss(logit, label, alpha = 0.5):\n",
    "    \"\"\"\n",
    "    logit: shape [batch, ndim]\n",
    "    label: shape [batch, ndim]\n",
    "    ndim = 2 represents coordinate_x and coordinaate_y\n",
    "    alpha: weight for MSELoss and 1-alpha for ED loss\n",
    "    return: combine MSELoss and ED Loss for x and y, shape [batch, 1]\n",
    "    \"\"\"\n",
    "    alpha = alpha\n",
    "    mse_loss = nn.MSELoss(reduction='mean')\n",
    "\n",
    "    mse_x = mse_loss(logit[:,0],label[:,0])\n",
    "    mse_y = mse_loss(logit[:,1],label[:,1])\n",
    "    mse_l = 0.5*(mse_x + mse_y)\n",
    "    # print('mse_l', mse_l)\n",
    "\n",
    "    ed_loss = []\n",
    "    # print(logit.shape[0])\n",
    "    for i in range(logit.shape[0]):\n",
    "        logit_tmp = logit[i,:].numpy()\n",
    "        label_tmp = label[i,:].numpy()\n",
    "        # print('cal_coordinate_loss_ed', logit_tmp, label_tmp)        \n",
    "        ed_tmp = euclidean_distances([logit_tmp], [label_tmp])\n",
    "        # print('ed_tmp:', ed_tmp[0][0])\n",
    "        ed_loss.append(ed_tmp)\n",
    "    \n",
    "    ed_l = sum(ed_loss)/len(ed_loss)\n",
    "    # print('ed_l', ed_l)\n",
    "    # print('alpha', alpha)\n",
    "    loss = alpha * mse_l + (1-alpha) * ed_l\n",
    "    # print('loss in function', loss)\n",
    "    return loss"
   ]
  },
  {
   "cell_type": "code",
   "execution_count": 10,
   "metadata": {
    "collapsed": false
   },
   "outputs": [],
   "source": [
    "### 训练函数\n",
    "\n",
    "def train(model, iters, train_dataloader, val_dataloader, optimizer, log_interval, evl_interval):\n",
    "    iter = 0\n",
    "    model.train()\n",
    "    avg_loss_list = []\n",
    "    avg_ED_list = []\n",
    "    best_ED = sys.float_info.max\n",
    "    while iter < iters:\n",
    "        for img, lab in train_dataloader:\n",
    "            iter += 1\n",
    "            if iter > iters:\n",
    "                break\n",
    "            fundus_imgs = (img / 255.).astype('float32')\n",
    "            label = lab.astype(\"float32\")\n",
    "\n",
    "            logits = model(fundus_imgs)\n",
    "            loss = cal_coordinate_Loss(logits, label)\n",
    "            # print('loss in train',loss)\n",
    "\n",
    "            for p,l in zip(logits.numpy(), label.numpy()):\n",
    "                avg_ED_list.append([p,l])\n",
    "            \n",
    "            # print('avg_ED_list', avg_ED_list)\n",
    "            loss.backward()\n",
    "            optimizer.step()\n",
    "            model.clear_gradients()\n",
    "            avg_loss_list.append(loss.numpy()[0])\n",
    "            \n",
    "            if iter % log_interval == 0:\n",
    "                avg_loss = np.array(avg_loss_list).mean()\n",
    "                # print(avg_loss)\n",
    "                avg_ED_list = np.array(avg_ED_list)\n",
    "                avg_ED = cal_ed_val(avg_ED_list[:, 0], avg_ED_list[:, 1]) # cal_ED\n",
    "                # print('ed in training', avg_ED)\n",
    "                avg_loss_list = []\n",
    "                avg_ED_list = []\n",
    "                \n",
    "                print(\"[TRAIN] iter={}/{} avg_loss={:.4f} avg_ED={:.4f}\".format(iter, iters, avg_loss, avg_ED[0][0]))\n",
    "\n",
    "            if iter % evl_interval == 0:\n",
    "                avg_loss, avg_ED = val(model, val_dataloader)\n",
    "                print(\"[EVAL] iter={}/{} avg_loss={:.4f} ED={:.4f}\".format(iter, iters, avg_loss, avg_ED[0][0]))\n",
    "                if avg_ED <= best_ED:\n",
    "                    best_ED = avg_ED[0][0]\n",
    "                    paddle.save(model.state_dict(),\n",
    "                            os.path.join(\"best_model_{:.4f}\".format(best_ED), 'model.pdparams'))\n",
    "                model.train()\n",
    "\n",
    "### 验证函数\n",
    "\n",
    "def val(model, val_dataloader):\n",
    "    model.eval()\n",
    "    avg_loss_list = []\n",
    "    cache = []\n",
    "    with paddle.no_grad():\n",
    "        for data in val_dataloader:\n",
    "            fundus_imgs = (data[0] / 255.).astype(\"float32\")\n",
    "            labels = data[1].astype('float32')\n",
    "            \n",
    "            logits = model(fundus_imgs)\n",
    "            for p, l in zip(logits.numpy(), labels.numpy()):\n",
    "                cache.append([p, l])\n",
    "\n",
    "            loss = cal_coordinate_Loss(logits, labels)\n",
    "            avg_loss_list.append(loss.numpy()[0])\n",
    "\n",
    "    cache = np.array(cache)\n",
    "    ED = cal_ed_val(cache[:, 0], cache[:, 1])\n",
    "    avg_loss = np.array(avg_loss_list).mean()\n",
    "\n",
    "    return avg_loss, ED"
   ]
  },
  {
   "cell_type": "markdown",
   "metadata": {
    "collapsed": false
   },
   "source": [
    "## 训练阶段"
   ]
  },
  {
   "cell_type": "code",
   "execution_count": 15,
   "metadata": {
    "collapsed": false
   },
   "outputs": [],
   "source": [
    "### 生成训练集和验证集 \n",
    "\n",
    "train_dataset = FundusDataset(image_file = images_file, \n",
    "                       gt_file=gt_file,\n",
    "                       filelists=train_filelists)\n",
    "\n",
    "val_dataset = FundusDataset(image_file = images_file, \n",
    "                       gt_file=gt_file,\n",
    "                       filelists=val_filelists)"
   ]
  },
  {
   "cell_type": "code",
   "execution_count": 16,
   "metadata": {
    "collapsed": false
   },
   "outputs": [],
   "source": [
    "### 加载数据\n",
    "\n",
    "train_loader = paddle.io.DataLoader(\n",
    "    train_dataset,\n",
    "    batch_sampler=paddle.io.DistributedBatchSampler(train_dataset, batch_size=BATCH_SIZE, shuffle=True, drop_last=False),\n",
    "    # num_workers=num_workers,\n",
    "    return_list=True,\n",
    "    use_shared_memory=False\n",
    ")\n",
    "\n",
    "val_loader = paddle.io.DataLoader(\n",
    "    val_dataset,\n",
    "    batch_sampler=paddle.io.DistributedBatchSampler(val_dataset, batch_size=BATCH_SIZE, shuffle=True, drop_last=False),\n",
    "    # num_workers=num_workers,\n",
    "    return_list=True,\n",
    "    use_shared_memory=False\n",
    ")"
   ]
  },
  {
   "cell_type": "code",
   "execution_count": 23,
   "metadata": {
    "collapsed": false
   },
   "outputs": [
    {
     "name": "stderr",
     "output_type": "stream",
     "text": [
      "W1102 17:24:26.792856   104 device_context.cc:362] Please NOTE: device: 0, GPU Compute Capability: 7.0, Driver API Version: 10.1, Runtime API Version: 10.1\n",
      "W1102 17:24:26.798398   104 device_context.cc:372] device: 0, cuDNN Version: 7.6.\n",
      "2021-11-02 17:24:42,151 - INFO - unique_endpoints {''}\n",
      "2021-11-02 17:24:42,152 - INFO - Downloading resnet152.pdparams from https://paddle-hapi.bj.bcebos.com/models/resnet152.pdparams\n",
      "100%|██████████| 355826/355826 [00:05<00:00, 67440.43it/s]\n",
      "2021-11-02 17:24:47,570 - INFO - File /home/aistudio/.cache/paddle/hapi/weights/resnet152.pdparams md5 checking...\n"
     ]
    }
   ],
   "source": [
    "\n",
    "model = Network()\n",
    "\n",
    "if optimizer_type == \"adam\":\n",
    "    optimizer = paddle.optimizer.Adam(init_lr, parameters=model.parameters())\n",
    "\n",
    "# criterion = cal_coordinate_Loss()"
   ]
  },
  {
   "cell_type": "code",
   "execution_count": 30,
   "metadata": {
    "collapsed": false
   },
   "outputs": [],
   "source": [
    "# 接续上次的运行结果\r\n",
    "best_model_path = \"./best_model_0.0145/model.pdparams\"\r\n",
    "para_state_dict = paddle.load(best_model_path)\r\n",
    "model.set_state_dict(para_state_dict)"
   ]
  },
  {
   "cell_type": "code",
   "execution_count": 25,
   "metadata": {
    "collapsed": false
   },
   "outputs": [],
   "source": [
    "### 训练过程\n",
    "iters = 2000\n",
    "evl_interval = iters//5\n",
    "\n",
    "train(model, iters, train_loader, val_loader, optimizer, log_interval=10, evl_interval=100)"
   ]
  },
  {
   "cell_type": "markdown",
   "metadata": {
    "collapsed": false
   },
   "source": [
    "## 测试结果"
   ]
  },
  {
   "cell_type": "code",
   "execution_count": 32,
   "metadata": {
    "collapsed": false
   },
   "outputs": [
    {
     "name": "stderr",
     "output_type": "stream",
     "text": [
      "2021-11-02 22:24:52,818 - INFO - unique_endpoints {''}\n",
      "2021-11-02 22:24:52,819 - INFO - File /home/aistudio/.cache/paddle/hapi/weights/resnet152.pdparams md5 checking...\n",
      "2021-11-02 22:24:53,611 - INFO - Found /home/aistudio/.cache/paddle/hapi/weights/resnet152.pdparams\n"
     ]
    }
   ],
   "source": [
    "### 测试过程，加载模型参数\n",
    "\n",
    "best_model_path = \"./best_model_0.0138/model.pdparams\"\n",
    "model = Network()\n",
    "para_state_dict = paddle.load(best_model_path)\n",
    "model.set_state_dict(para_state_dict)\n",
    "model.eval()"
   ]
  },
  {
   "cell_type": "code",
   "execution_count": 27,
   "metadata": {
    "collapsed": false
   },
   "outputs": [],
   "source": [
    "### 生成测试集\n",
    "\n",
    "test_dataset = FundusDataset(image_file = test_file, mode='test')"
   ]
  },
  {
   "cell_type": "code",
   "execution_count": 28,
   "metadata": {
    "collapsed": false
   },
   "outputs": [],
   "source": [
    "### 一张一张测试样本\n",
    "\n",
    "cache = []\n",
    "for fundus_img, idx, h, w in test_dataset:\n",
    "    fundus_img = fundus_img[np.newaxis, ...]    \n",
    "    fundus_img = paddle.to_tensor((fundus_img / 255.).astype(\"float32\"))    \n",
    "    logits = model(fundus_img)\n",
    "    pred_coor = logits.numpy()\n",
    "    # print(pred_coor)\n",
    "    x = pred_coor[0][0] * w\n",
    "    y = pred_coor[0][1] * h\n",
    "    cache.append([idx.split('.')[0], x, y])"
   ]
  },
  {
   "cell_type": "code",
   "execution_count": 29,
   "metadata": {
    "collapsed": false
   },
   "outputs": [],
   "source": [
    "### 将所有测试集中预测结果存到.csv中\n",
    "\n",
    "submission_result = pd.DataFrame(cache, columns=['data', 'Fovea_X', 'Fovea_Y'])\n",
    "submission_result[['data', 'Fovea_X', 'Fovea_Y']].to_csv(\"./Localization_Results.csv\", index=False)"
   ]
  },
  {
   "cell_type": "markdown",
   "metadata": {
    "collapsed": false
   },
   "source": [
    "# 总结\n",
    "\n",
    "目前在Resnet152上的运行效果仍不够好，可以有以下几个方向修改：\n",
    "\n",
    "1. 更替更深层的网络，比如Resnet200\n",
    "2. 更替loss的设定"
   ]
  }
 ],
 "metadata": {
  "kernelspec": {
   "display_name": "Python 3",
   "language": "python",
   "name": "py35-paddle1.2.0"
  },
  "language_info": {
   "codemirror_mode": {
    "name": "ipython",
    "version": 3
   },
   "file_extension": ".py",
   "mimetype": "text/x-python",
   "name": "python",
   "nbconvert_exporter": "python",
   "pygments_lexer": "ipython3",
   "version": "3.7.4"
  }
 },
 "nbformat": 4,
 "nbformat_minor": 1
}
